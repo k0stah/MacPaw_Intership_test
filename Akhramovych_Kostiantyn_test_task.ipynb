{
 "cells": [
  {
   "cell_type": "code",
   "execution_count": 4,
   "metadata": {
    "collapsed": true,
    "jupyter": {
     "outputs_hidden": true
    }
   },
   "outputs": [
    {
     "name": "stdout",
     "output_type": "stream",
     "text": [
      "Collecting catboost\n",
      "  Downloading catboost-0.25.1-cp38-none-macosx_10_6_intel.macosx_10_9_intel.macosx_10_9_x86_64.macosx_10_10_intel.macosx_10_10_x86_64.whl (11.1 MB)\n",
      "\u001b[K     |████████████████████████████████| 11.1 MB 232 kB/s eta 0:00:01\n",
      "\u001b[?25hRequirement already satisfied: graphviz in /opt/anaconda3/lib/python3.8/site-packages (from catboost) (0.5.1)\n",
      "Requirement already satisfied: matplotlib in /opt/anaconda3/lib/python3.8/site-packages (from catboost) (3.3.4)\n",
      "Requirement already satisfied: scipy in /opt/anaconda3/lib/python3.8/site-packages (from catboost) (1.6.1)\n",
      "Requirement already satisfied: numpy>=1.16.0 in /opt/anaconda3/lib/python3.8/site-packages (from catboost) (1.20.1)\n",
      "Requirement already satisfied: pandas>=0.24.0 in /opt/anaconda3/lib/python3.8/site-packages (from catboost) (1.0.5)\n",
      "Requirement already satisfied: plotly in /opt/anaconda3/lib/python3.8/site-packages (from catboost) (4.14.3)\n",
      "Requirement already satisfied: six in /opt/anaconda3/lib/python3.8/site-packages (from catboost) (1.15.0)\n",
      "Requirement already satisfied: pyparsing!=2.0.4,!=2.1.2,!=2.1.6,>=2.0.3 in /opt/anaconda3/lib/python3.8/site-packages (from matplotlib->catboost) (2.4.7)\n",
      "Requirement already satisfied: pillow>=6.2.0 in /opt/anaconda3/lib/python3.8/site-packages (from matplotlib->catboost) (8.1.2)\n",
      "Requirement already satisfied: python-dateutil>=2.1 in /opt/anaconda3/lib/python3.8/site-packages (from matplotlib->catboost) (2.8.1)\n",
      "Requirement already satisfied: cycler>=0.10 in /opt/anaconda3/lib/python3.8/site-packages (from matplotlib->catboost) (0.10.0)\n",
      "Requirement already satisfied: kiwisolver>=1.0.1 in /opt/anaconda3/lib/python3.8/site-packages (from matplotlib->catboost) (1.2.0)\n",
      "Requirement already satisfied: pytz>=2017.2 in /opt/anaconda3/lib/python3.8/site-packages (from pandas>=0.24.0->catboost) (2020.1)\n",
      "Requirement already satisfied: retrying>=1.3.3 in /opt/anaconda3/lib/python3.8/site-packages (from plotly->catboost) (1.3.3)\n",
      "Installing collected packages: catboost\n",
      "Successfully installed catboost-0.25.1\n",
      "Note: you may need to restart the kernel to use updated packages.\n"
     ]
    }
   ],
   "source": [
    "pip install catboost"
   ]
  },
  {
   "cell_type": "code",
   "execution_count": 273,
   "metadata": {},
   "outputs": [],
   "source": [
    "import numpy as np\n",
    "from catboost import Pool, CatBoostRegressor\n",
    "\n",
    "import numpy as np\n",
    "import pandas as pd"
   ]
  },
  {
   "cell_type": "markdown",
   "metadata": {},
   "source": [
    "Data import and prepairing"
   ]
  },
  {
   "cell_type": "code",
   "execution_count": 274,
   "metadata": {},
   "outputs": [],
   "source": [
    "df = pd.read_csv('train.csv')\n",
    "\n",
    "df['LotFrontage'] = df['LotFrontage'].fillna(0)\n",
    "df['MasVnrArea'] = df['MasVnrArea'].fillna(0)\n",
    "df['BsmtFinSF1'] = df['BsmtFinSF1'].fillna(0)\n",
    "df['BsmtFinSF2'] = df['BsmtFinSF2'].fillna(0)\n",
    "df['BsmtUnfSF'] = df['BsmtUnfSF'].fillna(0)\n",
    "df['TotalBsmtSF'] = df['TotalBsmtSF'].fillna(0)\n",
    "df['BsmtFullBath'] = df['BsmtFullBath'].fillna(0)\n",
    "df['BsmtHalfBath'] = df['BsmtHalfBath'].fillna(0)\n",
    "df['GarageCars'] = df['GarageCars'].fillna(0)\n",
    "df['GarageArea'] = df['GarageArea'].fillna(0)\n",
    "df['Exterior2nd'] = df['Exterior2nd'].fillna('Other')\n",
    "df['BsmtExposure'] = df['BsmtExposure'].fillna('No')\n",
    "df['KitchenQual'] = df['KitchenQual'].fillna(df['KitchenQual'].mode())\n",
    "df['Exterior1st'] = df['Exterior1st'].fillna(df['Exterior1st'].mode())\n",
    "df['Functional'] = df['Functional'].fillna(df['Functional'].mode())\n",
    "df['GarageYrBlt'] = df['GarageYrBlt'].dropna()\n",
    "df['SaleType'] = df['SaleType'].fillna(df['SaleType'].mode())\n",
    "\n",
    "df = df.fillna('None')\n",
    "\n",
    "X = df.iloc[:,1:80]\n",
    "Y = df['SalePrice']\n",
    "\n",
    "X = pd.get_dummies(data=X, drop_first=True)"
   ]
  },
  {
   "cell_type": "markdown",
   "metadata": {},
   "source": [
    "Data split into train and test samples"
   ]
  },
  {
   "cell_type": "code",
   "execution_count": 283,
   "metadata": {
    "collapsed": true,
    "jupyter": {
     "outputs_hidden": true
    }
   },
   "outputs": [],
   "source": [
    "from sklearn.model_selection import train_test_split\n",
    "X_train, X_test, y_train, y_test = train_test_split(X, Y, test_size=0.4, random_state=101)"
   ]
  },
  {
   "cell_type": "markdown",
   "metadata": {},
   "source": [
    "For comparison I'll build 2 models –  Gradient Boosting Model ana Linear Model. To decide which model is better, will be used metrics such like Root Mean Square Error as the most popular metric foe model evaluating."
   ]
  },
  {
   "cell_type": "markdown",
   "metadata": {},
   "source": [
    "Gradient Boosting model"
   ]
  },
  {
   "cell_type": "code",
   "execution_count": 368,
   "metadata": {
    "collapsed": true,
    "jupyter": {
     "outputs_hidden": true
    }
   },
   "outputs": [
    {
     "name": "stdout",
     "output_type": "stream",
     "text": [
      "0:\tlearn: 57677.7355289\ttotal: 3.49ms\tremaining: 171ms\n",
      "1:\tlearn: 49083.9475661\ttotal: 7.36ms\tremaining: 177ms\n",
      "2:\tlearn: 47795.1122395\ttotal: 12.8ms\tremaining: 201ms\n",
      "3:\tlearn: 42577.2813820\ttotal: 16.8ms\tremaining: 193ms\n",
      "4:\tlearn: 39440.9925217\ttotal: 36.1ms\tremaining: 325ms\n",
      "5:\tlearn: 38335.5764017\ttotal: 39.9ms\tremaining: 292ms\n",
      "6:\tlearn: 36318.6075051\ttotal: 44.2ms\tremaining: 271ms\n",
      "7:\tlearn: 34642.8956589\ttotal: 47ms\tremaining: 247ms\n",
      "8:\tlearn: 33211.4470177\ttotal: 67.7ms\tremaining: 308ms\n",
      "9:\tlearn: 32107.3806864\ttotal: 119ms\tremaining: 477ms\n",
      "10:\tlearn: 30686.1170785\ttotal: 125ms\tremaining: 444ms\n",
      "11:\tlearn: 29794.0844259\ttotal: 127ms\tremaining: 403ms\n",
      "12:\tlearn: 28447.2980835\ttotal: 129ms\tremaining: 366ms\n",
      "13:\tlearn: 27511.1651733\ttotal: 130ms\tremaining: 335ms\n",
      "14:\tlearn: 26363.1743545\ttotal: 132ms\tremaining: 307ms\n",
      "15:\tlearn: 26061.5777080\ttotal: 133ms\tremaining: 283ms\n",
      "16:\tlearn: 25794.2944073\ttotal: 135ms\tremaining: 262ms\n",
      "17:\tlearn: 25377.9533272\ttotal: 137ms\tremaining: 244ms\n",
      "18:\tlearn: 24661.5567442\ttotal: 139ms\tremaining: 226ms\n",
      "19:\tlearn: 24197.1329330\ttotal: 140ms\tremaining: 210ms\n",
      "20:\tlearn: 23684.8404293\ttotal: 142ms\tremaining: 196ms\n",
      "21:\tlearn: 23307.0871313\ttotal: 143ms\tremaining: 182ms\n",
      "22:\tlearn: 22948.5711371\ttotal: 145ms\tremaining: 170ms\n",
      "23:\tlearn: 22827.8774984\ttotal: 146ms\tremaining: 158ms\n",
      "24:\tlearn: 22484.1640526\ttotal: 148ms\tremaining: 148ms\n",
      "25:\tlearn: 22093.9948003\ttotal: 150ms\tremaining: 138ms\n",
      "26:\tlearn: 21776.6602534\ttotal: 151ms\tremaining: 129ms\n",
      "27:\tlearn: 21441.9240411\ttotal: 153ms\tremaining: 120ms\n",
      "28:\tlearn: 21217.5621725\ttotal: 154ms\tremaining: 112ms\n",
      "29:\tlearn: 20922.4181926\ttotal: 156ms\tremaining: 104ms\n",
      "30:\tlearn: 20763.5498777\ttotal: 157ms\tremaining: 96.5ms\n",
      "31:\tlearn: 20412.9754608\ttotal: 159ms\tremaining: 89.5ms\n",
      "32:\tlearn: 20283.5187939\ttotal: 161ms\tremaining: 82.8ms\n",
      "33:\tlearn: 19979.5917984\ttotal: 162ms\tremaining: 76.3ms\n",
      "34:\tlearn: 19840.7256986\ttotal: 164ms\tremaining: 70.1ms\n",
      "35:\tlearn: 19592.9053188\ttotal: 165ms\tremaining: 64.1ms\n",
      "36:\tlearn: 19358.5194432\ttotal: 166ms\tremaining: 58.5ms\n",
      "37:\tlearn: 19267.0641208\ttotal: 168ms\tremaining: 53ms\n",
      "38:\tlearn: 19184.0251881\ttotal: 171ms\tremaining: 48.2ms\n",
      "39:\tlearn: 19053.9707904\ttotal: 172ms\tremaining: 43.1ms\n",
      "40:\tlearn: 18802.7574806\ttotal: 174ms\tremaining: 38.2ms\n",
      "41:\tlearn: 18608.8121253\ttotal: 176ms\tremaining: 33.4ms\n",
      "42:\tlearn: 18475.1883642\ttotal: 177ms\tremaining: 28.8ms\n",
      "43:\tlearn: 18271.8837486\ttotal: 178ms\tremaining: 24.3ms\n",
      "44:\tlearn: 18061.2363403\ttotal: 180ms\tremaining: 20ms\n",
      "45:\tlearn: 17813.3338666\ttotal: 181ms\tremaining: 15.8ms\n",
      "46:\tlearn: 17595.4152948\ttotal: 183ms\tremaining: 11.7ms\n",
      "47:\tlearn: 17478.7790769\ttotal: 185ms\tremaining: 7.69ms\n",
      "48:\tlearn: 17379.7850297\ttotal: 186ms\tremaining: 3.8ms\n",
      "49:\tlearn: 17252.9141404\ttotal: 187ms\tremaining: 0us\n"
     ]
    }
   ],
   "source": [
    "train_pool = Pool(X_train, \n",
    "                  y_train )\n",
    "test_pool = Pool(X_test)\n",
    "\n",
    "model = CatBoostRegressor(iterations=50, \n",
    "                          depth=2, \n",
    "                          learning_rate=1, \n",
    "                          loss_function='RMSE')\n",
    "#train the model\n",
    "model.fit(train_pool)"
   ]
  },
  {
   "cell_type": "markdown",
   "metadata": {},
   "source": [
    "Linear model"
   ]
  },
  {
   "cell_type": "code",
   "execution_count": 286,
   "metadata": {
    "collapsed": true,
    "jupyter": {
     "outputs_hidden": true
    }
   },
   "outputs": [
    {
     "data": {
      "text/plain": [
       "array([251766.29025872, 166404.31050019, 123762.30702124, 396833.95469245,\n",
       "       426604.43755736,  44202.38243072, 114470.68541028, 125880.88270794,\n",
       "       153907.53174273, 151820.38614837,  97258.0954015 , 152919.3936943 ,\n",
       "       127675.57917928, 212056.92180229, 160471.79843762, 182085.99607167,\n",
       "       153451.47107269, 135369.91045451, 184448.6957948 , 224526.11267595,\n",
       "       138342.35213604,  59546.86341582, 175871.0296741 , 156558.6692704 ,\n",
       "       234346.00947243, 150754.70688799,  42568.78040042, 189294.34806604,\n",
       "       174496.48918212, 108426.0487271 , 207514.83769814, 217939.1260761 ,\n",
       "       166808.91568019, 300375.99427392,  54088.24018607, 114039.31949272,\n",
       "       416833.58415568, 227765.59414439, 126069.81476554,  81035.63653778,\n",
       "       286899.27790007, 221504.59992867, 211850.75442818, 184042.39341758,\n",
       "       140879.53820432, 165443.78149706, 328557.92166819, 189496.74968872,\n",
       "       102393.5063603 ,  51385.97641698, 112094.183953  , 305377.69943085,\n",
       "       104916.34042726, 186434.61950761, 180062.4064931 , 132426.89505974,\n",
       "       203249.18605785, 259857.99511421, 167127.8763402 , 232217.72742122,\n",
       "       199111.60483205, 134171.06178891, 147285.28789385, 114399.86466476,\n",
       "       113457.72602146, 179130.84001517, 138235.58690861, 232681.54625228,\n",
       "       201159.29106444, 183976.73479421, 182846.95403973, 140759.951282  ,\n",
       "        96020.5272188 , 158078.05408569, 119695.16633963,  80305.48590601,\n",
       "       204407.80054535, 178775.58334037, 246955.8377091 , 154602.66613589,\n",
       "       351492.32600465, 197521.00450037,  86864.4028252 , 193768.98093473,\n",
       "       196514.91697081, 306667.49694124, 164902.49882053, 148274.15689747,\n",
       "       135022.16199275, 259705.43216963, 164063.95524057, 167613.02136707,\n",
       "       170171.07625865, 100554.25205868, 154048.1265498 , 226291.93341363,\n",
       "       126927.71558927, 109121.4475981 , 184902.83868198, 219490.77165556,\n",
       "       152807.63619256, 294174.02146511,  93625.0869208 , 173671.22864971,\n",
       "       224608.93537578, 186889.11982643, 168007.39233944, 203769.20564888,\n",
       "       258489.4389714 , 150063.28336207, 299036.9950916 , 211130.64335145,\n",
       "       225569.80507794, 159331.72152105, 157199.12452316, 195725.98488132,\n",
       "       122748.22673945, 364803.7996923 , 154088.39945843, 167589.53191713,\n",
       "        47193.3361153 , 254119.00413291, 181548.72939874, 282375.74914307,\n",
       "       151838.46579449, 218621.93697177, 161015.7083932 , 144423.49899959,\n",
       "       207107.47546828, 154307.0410008 , 164006.57322386, 322687.5416207 ,\n",
       "       146734.10801404, 212210.85486297, 152977.79475186, 288337.56411316,\n",
       "        78046.2618454 ,  88245.54065376, 238576.73403221, 174873.04480668,\n",
       "       142021.66741348, 188289.75096286,  70438.01814611, 123908.22956609,\n",
       "       180669.43793686, 114814.05510136, 216555.38397633,  76165.72723125,\n",
       "       152846.6027125 , 126193.28864451, -23559.43408879, 218163.22213511,\n",
       "       184850.26169308, 106674.70010574, 282571.78983574, 112524.20253396,\n",
       "       248119.1916377 , 232126.34607128, 108746.52568206, 148193.88660395,\n",
       "       325807.0220231 , 134303.32759583,  88779.73927854, 712010.16926327,\n",
       "       103511.78887933, 273450.80906439, 106695.90479309, 257734.42470518,\n",
       "       197787.52682672,  88331.81526489, 148215.04220414,  64964.79501076,\n",
       "       138441.6449163 , 273169.12256171, 174675.35950283, 176949.04070366,\n",
       "       195751.59202229, 350982.3173482 , 252467.44893427, 189443.20274476,\n",
       "       169049.22077202,  25968.94309427, 173254.20623261, 243924.4178088 ,\n",
       "       189763.02950925, 145815.62245394, 191355.19983968, 237634.65064003,\n",
       "       148432.76700262, 129968.30320162, 191637.17813171, 297878.66688897,\n",
       "       124773.72321997, 129570.52926597, 316470.18768129, 165886.8303669 ,\n",
       "       222004.57399242,  73723.08274937, 443434.58693815,  78210.72853165,\n",
       "        86051.02972207, 212399.96941767, 171697.63220948, 117019.01538724,\n",
       "       343134.8295271 , 199978.37394456, 188043.2074204 , 288787.09294818,\n",
       "       130309.75260327, 126913.41807817, 172426.77811223, 138344.86959325,\n",
       "       193808.15046707,  92706.8314754 , 214491.12702029, 147265.5440461 ,\n",
       "       253810.56015376, 154494.81243318, 230058.61809858, 111433.03744638,\n",
       "       114338.93417366,  30717.61725901,  52236.41304055, 195072.40701347,\n",
       "       101136.8880408 , 130008.44826192, 131948.89089787, 185166.93702981,\n",
       "       182796.49860977, 339750.13981043, 159298.19759695, 224647.15222584,\n",
       "        89721.62307983, 145932.19157835, 222789.88305543, 125005.02021019,\n",
       "       324404.732971  , 145871.64540637, 155210.73211858, 214836.14133211,\n",
       "       159917.81216269, 186176.46266956, 131778.65955051,  63052.61906069,\n",
       "       374376.02295068, 138787.53158222, 234891.01912532, 118710.39851523,\n",
       "       177388.95785069, 179115.78765768, 192396.0080535 ,  75830.20780458,\n",
       "       241857.97580608, 127431.4935513 , 103061.73637449, 132206.90790016,\n",
       "       222549.35486467, 118213.80575603, 100845.44370951, 258489.9867969 ,\n",
       "       280273.05009279, 189478.32954003, 115213.42484054, 123631.20237109,\n",
       "       140085.02819467,  97298.58531845, 322445.72125747, 238374.09873951,\n",
       "       145831.06620456,  78316.67275407, 101352.54302349, 191510.6514839 ,\n",
       "       218325.01849569, 149499.43865389, 126308.72163523, 137199.43342049,\n",
       "       189432.64453361, 200210.83257641, 173845.48162194, 212558.77941968,\n",
       "       207551.18543947, 317820.06744003, 318401.70286267, 148802.09555839,\n",
       "       121039.85014487, 135214.33407556, 120063.54871215, 143713.00179094,\n",
       "       190441.06306314, 275086.34672452, 309318.37944894, 154565.86711411,\n",
       "       198314.7225037 , 240034.92342109,  92301.48703904, 110783.66642607,\n",
       "        72772.91861065, 363566.96557167, 187996.11517361, 127486.43482153,\n",
       "       109871.04586939, 164150.12052835, 175729.42541103, 142086.61266171,\n",
       "        96803.70390586,  86216.61185544, 292361.08230464, 201544.78791169,\n",
       "       159767.24617888, 138005.44600356, 114464.98232072, 109985.59008914,\n",
       "       291475.70728788, 212940.04838615, 266004.008287  , 132575.01935535,\n",
       "       108455.22329432, 153284.71228982, 214908.97251484,  80824.30930669,\n",
       "       146872.81834169,  98930.57336401, 137303.67675846, 177644.73551411,\n",
       "       123355.77251495, 164842.66719671, 109641.99965844, 140763.11958491,\n",
       "       108738.17348924, 200359.50859989,  65750.58471246, 426110.0012457 ,\n",
       "       230414.28497204, 179363.71227851, 139065.07173287, 132663.97558679,\n",
       "       152229.63750767, 134170.41964758,  61866.40034394, 130893.51626239,\n",
       "       225331.77256844, 204512.52179238, 198417.369451  , 119692.03075254,\n",
       "       115269.61953612, 137522.38745758, 150563.65020805, 205031.79375973,\n",
       "       137196.03022228, 284833.8119977 , 219281.04888676, 190199.97646918,\n",
       "       161204.17469203, 135856.89478287, 188044.85644603, 140311.88260602,\n",
       "       194143.28717526, 201732.99043282,  87714.24703546, 133744.26145513,\n",
       "       210911.2361187 , 220549.27286632, 193738.514545  , 178385.06482446,\n",
       "       283092.17704246, 164500.02791537, 142011.68935069,  71766.80770794,\n",
       "       128147.02933913,  82655.61302924, 132903.63425572, 104084.33749052,\n",
       "       137440.41113745, 235355.51565561, 161811.90293553, 147820.71813296,\n",
       "       157090.53903786, 169614.66356774, 134198.42617371, 197960.49626373,\n",
       "       271625.76175781, 151137.4067457 , 103759.69584194,  66861.05663287,\n",
       "       127632.93878521, 324464.02367818, 322491.05773379, 347341.61082396,\n",
       "       313651.01421484, 145554.00874414, 353413.52748601,  86561.00990397,\n",
       "       217531.82487253, 255156.61795051, 132627.11340158, 169100.14512679,\n",
       "       158449.15367644, 215379.59640965, 574118.04061352, 192449.63797596,\n",
       "       230102.70472997, 111712.36802407,  87013.28673533, 252008.22349486,\n",
       "       198816.12240125, 294896.06727941, 143221.87334777, 290955.42235644,\n",
       "       303378.22262728, 177010.65949094, 131094.71277658, 244042.04934875,\n",
       "       154105.62174507, 199810.58347969, 276815.45751723, 165290.66065497,\n",
       "       221134.80991885, 267008.02939507, 138174.92186213, 155148.80394484,\n",
       "       138378.88723468, 169282.18214249, 140080.63482076, 273834.4148568 ,\n",
       "        74774.2922213 , 291856.64261684,  90572.61388147, 132623.11697206,\n",
       "       175576.04113816, 159423.51927672, 168480.76927235, 204699.71903644,\n",
       "       193219.04882349, 238566.0496971 , 171827.37099318, 203412.80195003,\n",
       "        97828.9648324 , 153860.62496791, 318971.58139057, 100393.58735974,\n",
       "       270895.22978339, 252262.60645667, 225947.46465565, 269200.14353223,\n",
       "       334301.8876934 , 140554.28313297, 174691.2572216 , 226582.67519497,\n",
       "       186666.64030295, 133368.47662625, 226102.21550176, 157620.42518257,\n",
       "        81285.59339048, 210527.83392615, 175737.50463456, 167471.18169617,\n",
       "       111187.44191705,  32162.6835875 , 157725.66723511, 173339.06399441,\n",
       "       209174.67014811, 135070.06791747,  87950.54990148, 107385.85003153,\n",
       "       183664.43300076, 137578.01947503, 237892.63648742, 109757.72528759,\n",
       "       161434.32117114, 198148.35028722, 169918.03253138, 278322.64736569,\n",
       "       148444.87547554,  91854.09657988, 236705.22666364, 235042.17758219,\n",
       "       135534.27157274, 280939.86494894, 201438.68890311, 142786.36922838,\n",
       "       143761.79410856, 157445.8602149 , 131936.80533527, 156149.23834208,\n",
       "       264429.18734681, 211800.85557333, 173089.9866285 , 192241.14696098,\n",
       "       242405.33323129, 251899.53261907, 141614.72736877,  61710.90273847,\n",
       "       165386.24162604, 221254.71455558, 173292.98962977, 296690.21468016,\n",
       "       209506.43870428, 221531.40088518, 218266.393445  , 215495.7403088 ,\n",
       "       134762.81169149, 206515.24077583, 135509.62446359, 189258.1343106 ,\n",
       "       139848.75022726, 165483.58161444, 229685.34961956,  72462.38428032,\n",
       "        52730.54476376,  92921.45476451, 217702.20504522, 139508.52109686,\n",
       "        76167.61752534, 455796.37562924, 108176.43160973, 169290.31168669,\n",
       "       219779.84823618, 112542.46884013, 159555.62951088, 156394.38364221,\n",
       "       167898.58184571, 153196.20840355, 197249.83429402, 184986.19473432,\n",
       "       160468.15582484, 169257.82971138, 243006.65577836, 135155.65095039,\n",
       "       224282.62354332, 116864.67396161, 170392.8842979 , 266765.36791905,\n",
       "        15824.44592724, 221469.44382199, 165027.23421496, 154596.86909399,\n",
       "       212963.76219683, 332380.90352738, 113243.60804544, 194437.30587796,\n",
       "       214407.22642606,  30684.51269639, 330529.70937917, 127898.29297063,\n",
       "       158642.46181122, 366547.25963498, 159949.85458546, 164009.68763739,\n",
       "       104367.38757644,  -8324.23391092, 137574.24624405, 261394.36467487,\n",
       "       236699.1649195 , 185135.79083093, 171577.77198501, 160859.91137974,\n",
       "       199320.30931248, 202002.22223276, 113235.30479156, 111501.59705413,\n",
       "       360827.19650332, 192645.86186981, 127501.44268265, 186861.27412838,\n",
       "       309787.97927191, 143861.0640743 , 223174.02698164, 165013.19701055,\n",
       "        86205.28508951, 160807.85181075, 327576.7239266 ,  98420.04004908,\n",
       "       196310.31531212, 125607.21163783, 194436.28702051, 215046.51841645,\n",
       "       156848.90682212, 185087.38212618, 219914.49256287, 201042.07891775,\n",
       "       196343.79014803, 208681.12728969, 154834.21778882, 474863.01580595])"
      ]
     },
     "execution_count": 286,
     "metadata": {},
     "output_type": "execute_result"
    }
   ],
   "source": [
    "from sklearn.linear_model import LinearRegression\n",
    "model_lin = LinearRegression()\n",
    "model_lin.fit(X_train,y_train)"
   ]
  },
  {
   "cell_type": "markdown",
   "metadata": {},
   "source": [
    "Root Mean Square Error"
   ]
  },
  {
   "cell_type": "markdown",
   "metadata": {},
   "source": [
    "As we can see, RMSE in GBM decreases with every next iteration."
   ]
  },
  {
   "cell_type": "code",
   "execution_count": 394,
   "metadata": {},
   "outputs": [
    {
     "name": "stderr",
     "output_type": "stream",
     "text": [
      "<ipython-input-394-8dd3bf30bdfe>:5: FutureWarning: pandas.io.json.json_normalize is deprecated, use pandas.json_normalize instead\n",
      "  qq= pd.DataFrame((json_normalize(model.get_evals_result()).loc[0].values)[0],index=[np.arange(1,51,1)]) .round(2)\n"
     ]
    },
    {
     "data": {
      "image/png": "[encoded data removed]",
      "text/plain": [
       "<Figure size 432x288 with 1 Axes>"
      ]
     },
     "metadata": {
      "needs_background": "light"
     },
     "output_type": "display_data"
    }
   ],
   "source": [
    "import matplotlib.pyplot as plt\n",
    "from sklearn.metrics import mean_squared_error\n",
    "from pandas.io.json import json_normalize\n",
    "\n",
    "qq= pd.DataFrame((json_normalize(model.get_evals_result()).loc[0].values)[0],index=[np.arange(1,51,1)]) .round(2)\n",
    "\n",
    "plt.plot(qq.values)\n",
    "plt.xlabel('Iteration')\n",
    "plt.show()"
   ]
  },
  {
   "cell_type": "code",
   "execution_count": 362,
   "metadata": {},
   "outputs": [
    {
     "name": "stderr",
     "output_type": "stream",
     "text": [
      "<ipython-input-362-10451478a67a>:4: FutureWarning: pandas.io.json.json_normalize is deprecated, use pandas.json_normalize instead\n",
      "  rmse = pd.DataFrame({'GBM': pd.DataFrame(json_normalize(model.get_best_score())).loc[0].values, 'LM': mean_squared_error(y_test,model_lin.predict(X_test))**0.5},index=['RMSE'])\n"
     ]
    },
    {
     "data": {
      "text/html": [
       "<div>\n",
       "<style scoped>\n",
       "    .dataframe tbody tr th:only-of-type {\n",
       "        vertical-align: middle;\n",
       "    }\n",
       "\n",
       "    .dataframe tbody tr th {\n",
       "        vertical-align: top;\n",
       "    }\n",
       "\n",
       "    .dataframe thead th {\n",
       "        text-align: right;\n",
       "    }\n",
       "</style>\n",
       "<table border=\"1\" class=\"dataframe\">\n",
       "  <thead>\n",
       "    <tr style=\"text-align: right;\">\n",
       "      <th></th>\n",
       "      <th>GBM</th>\n",
       "      <th>LM</th>\n",
       "    </tr>\n",
       "  </thead>\n",
       "  <tbody>\n",
       "    <tr>\n",
       "      <th>RMSE</th>\n",
       "      <td>17252.91414</td>\n",
       "      <td>40995.610715</td>\n",
       "    </tr>\n",
       "  </tbody>\n",
       "</table>\n",
       "</div>"
      ],
      "text/plain": [
       "              GBM            LM\n",
       "RMSE  17252.91414  40995.610715"
      ]
     },
     "execution_count": 362,
     "metadata": {},
     "output_type": "execute_result"
    }
   ],
   "source": [
    "rmse = pd.DataFrame({'GBM': pd.DataFrame(json_normalize(model.get_best_score())).loc[0].values, 'LM': mean_squared_error(y_test,model_lin.predict(X_test))**0.5},index=['RMSE'])\n",
    "rmse"
   ]
  },
  {
   "cell_type": "code",
   "execution_count": 382,
   "metadata": {},
   "outputs": [
    {
     "data": {
      "text/plain": [
       "<AxesSubplot:>"
      ]
     },
     "execution_count": 382,
     "metadata": {},
     "output_type": "execute_result"
    },
    {
     "data": {
      "image/png": "[encoded data removed]",
      "text/plain": [
       "<Figure size 432x288 with 1 Axes>"
      ]
     },
     "metadata": {
      "needs_background": "light"
     },
     "output_type": "display_data"
    }
   ],
   "source": [
    "rmse.plot.bar()"
   ]
  },
  {
   "cell_type": "markdown",
   "metadata": {},
   "source": [
    "For SalePrice prediction I will use GBM, beacause of lower RMSE than in Lm."
   ]
  },
  {
   "cell_type": "markdown",
   "metadata": {},
   "source": [
    "Importing and prepairing dataset for predicting"
   ]
  },
  {
   "cell_type": "code",
   "execution_count": 386,
   "metadata": {},
   "outputs": [],
   "source": [
    "df_test = pd.read_csv('test.csv')\n",
    "\n",
    "df_test = df_test.set_index(df_test['Id'])\n",
    "del df_test['Id']\n",
    "\n",
    "df_test['LotFrontage'] = df_test['LotFrontage'].fillna(0)\n",
    "df_test['MasVnrArea'] = df_test['MasVnrArea'].fillna(0)\n",
    "df_test['BsmtFinSF1'] = df_test['BsmtFinSF1'].fillna(0)\n",
    "df_test['BsmtFinSF2'] = df_test['BsmtFinSF2'].fillna(0)\n",
    "df_test['BsmtUnfSF'] = df_test['BsmtUnfSF'].fillna(0)\n",
    "df_test['TotalBsmtSF'] = df_test['TotalBsmtSF'].fillna(0)\n",
    "df_test['BsmtFullBath'] = df_test['BsmtFullBath'].fillna(0)\n",
    "df_test['BsmtHalfBath'] = df_test['BsmtHalfBath'].fillna(0)\n",
    "df_test['GarageCars'] = df_test['GarageCars'].fillna(0)\n",
    "df_test['GarageArea'] = df_test['GarageArea'].fillna(0)\n",
    "df_test['Exterior2nd'] = df_test['Exterior2nd'].fillna('Other')\n",
    "df_test['BsmtExposure'] = df_test['BsmtExposure'].fillna('No')\n",
    "df_test['KitchenQual'] = df_test['KitchenQual'].fillna(df_test['KitchenQual'].mode())\n",
    "df_test['Exterior1st'] = df_test['Exterior1st'].fillna(df_test['Exterior1st'].mode())\n",
    "df_test['Functional'] = df_test['Functional'].fillna(df_test['Functional'].mode())\n",
    "df_test['GarageYrBlt'] = df_test['GarageYrBlt'].dropna()\n",
    "df_test['SaleType'] = df_test['SaleType'].fillna(df_test['SaleType'].mode())\n",
    "\n",
    "df_test = df_test.fillna('None')\n",
    "\n",
    "df_test = pd.get_dummies(data=df_test, drop_first=True)"
   ]
  },
  {
   "cell_type": "markdown",
   "metadata": {},
   "source": [
    "Gradient Boosting model"
   ]
  },
  {
   "cell_type": "code",
   "execution_count": 389,
   "metadata": {
    "collapsed": true,
    "jupyter": {
     "outputs_hidden": true
    }
   },
   "outputs": [
    {
     "name": "stdout",
     "output_type": "stream",
     "text": [
      "0:\tlearn: 54176.6089708\ttotal: 2.74ms\tremaining: 134ms\n",
      "1:\tlearn: 48623.8523397\ttotal: 7.16ms\tremaining: 172ms\n",
      "2:\tlearn: 45615.8043835\ttotal: 9.02ms\tremaining: 141ms\n",
      "3:\tlearn: 41221.6447503\ttotal: 11.1ms\tremaining: 128ms\n",
      "4:\tlearn: 38684.1190035\ttotal: 13.1ms\tremaining: 118ms\n",
      "5:\tlearn: 36926.3064245\ttotal: 24.8ms\tremaining: 182ms\n",
      "6:\tlearn: 34930.6791201\ttotal: 27.8ms\tremaining: 170ms\n",
      "7:\tlearn: 33874.6173743\ttotal: 42ms\tremaining: 220ms\n",
      "8:\tlearn: 32705.7297589\ttotal: 45.6ms\tremaining: 208ms\n",
      "9:\tlearn: 32044.5719200\ttotal: 49.5ms\tremaining: 198ms\n",
      "10:\tlearn: 30875.2399015\ttotal: 53.9ms\tremaining: 191ms\n",
      "11:\tlearn: 30059.2320604\ttotal: 56.1ms\tremaining: 178ms\n",
      "12:\tlearn: 29608.7211560\ttotal: 58.9ms\tremaining: 168ms\n",
      "13:\tlearn: 28621.9050393\ttotal: 62.7ms\tremaining: 161ms\n",
      "14:\tlearn: 27968.3614285\ttotal: 71.6ms\tremaining: 167ms\n",
      "15:\tlearn: 27508.4052875\ttotal: 76.3ms\tremaining: 162ms\n",
      "16:\tlearn: 27114.8486048\ttotal: 79.8ms\tremaining: 155ms\n",
      "17:\tlearn: 26642.3394637\ttotal: 82.6ms\tremaining: 147ms\n",
      "18:\tlearn: 26060.4744267\ttotal: 85.2ms\tremaining: 139ms\n",
      "19:\tlearn: 25692.1231737\ttotal: 87.9ms\tremaining: 132ms\n",
      "20:\tlearn: 25207.9691485\ttotal: 92.7ms\tremaining: 128ms\n",
      "21:\tlearn: 24983.8914819\ttotal: 96.6ms\tremaining: 123ms\n",
      "22:\tlearn: 24593.6075074\ttotal: 99ms\tremaining: 116ms\n",
      "23:\tlearn: 24399.6974000\ttotal: 102ms\tremaining: 110ms\n",
      "24:\tlearn: 23961.0444480\ttotal: 103ms\tremaining: 103ms\n",
      "25:\tlearn: 23668.2629582\ttotal: 106ms\tremaining: 97.7ms\n",
      "26:\tlearn: 23388.1388595\ttotal: 109ms\tremaining: 93.1ms\n",
      "27:\tlearn: 23122.7886536\ttotal: 114ms\tremaining: 89.8ms\n",
      "28:\tlearn: 22825.0515089\ttotal: 117ms\tremaining: 84.5ms\n",
      "29:\tlearn: 22598.0608841\ttotal: 119ms\tremaining: 79.1ms\n",
      "30:\tlearn: 22474.2251074\ttotal: 120ms\tremaining: 73.7ms\n",
      "31:\tlearn: 22251.9340615\ttotal: 122ms\tremaining: 68.4ms\n",
      "32:\tlearn: 21980.0955905\ttotal: 124ms\tremaining: 63.7ms\n",
      "33:\tlearn: 21754.5340461\ttotal: 127ms\tremaining: 59.7ms\n",
      "34:\tlearn: 21500.4848075\ttotal: 129ms\tremaining: 55.4ms\n",
      "35:\tlearn: 21262.2010073\ttotal: 131ms\tremaining: 51.1ms\n",
      "36:\tlearn: 21045.1378978\ttotal: 133ms\tremaining: 46.7ms\n",
      "37:\tlearn: 20885.7489672\ttotal: 134ms\tremaining: 42.4ms\n",
      "38:\tlearn: 20693.9490704\ttotal: 136ms\tremaining: 38.3ms\n",
      "39:\tlearn: 20581.8294916\ttotal: 138ms\tremaining: 34.5ms\n",
      "40:\tlearn: 20283.2658444\ttotal: 140ms\tremaining: 30.7ms\n",
      "41:\tlearn: 20114.4614636\ttotal: 142ms\tremaining: 27ms\n",
      "42:\tlearn: 19995.4439256\ttotal: 143ms\tremaining: 23.3ms\n",
      "43:\tlearn: 19813.3551022\ttotal: 145ms\tremaining: 19.8ms\n",
      "44:\tlearn: 19675.4766855\ttotal: 147ms\tremaining: 16.3ms\n",
      "45:\tlearn: 19559.6402668\ttotal: 148ms\tremaining: 12.9ms\n",
      "46:\tlearn: 19461.4778222\ttotal: 150ms\tremaining: 9.55ms\n",
      "47:\tlearn: 19291.0379005\ttotal: 151ms\tremaining: 6.3ms\n",
      "48:\tlearn: 19155.3156648\ttotal: 153ms\tremaining: 3.12ms\n",
      "49:\tlearn: 19079.6550005\ttotal: 155ms\tremaining: 0us\n"
     ]
    }
   ],
   "source": [
    "model1 = CatBoostRegressor(iterations=50, \n",
    "                          depth=2, \n",
    "                          learning_rate=1,\n",
    "                         loss_function='RMSE')\n",
    "\n",
    "train_pool = Pool(X,Y)\n",
    "#train the model\n",
    "model1.fit(train_pool)\n",
    "\n",
    "test_pool = Pool(df_test)\n",
    "\n",
    "res = model1.predict(test_pool)"
   ]
  },
  {
   "cell_type": "code",
   "execution_count": 396,
   "metadata": {},
   "outputs": [],
   "source": [
    "final_result = pd.DataFrame({'Id': df_test.index, 'SalePrice': res})"
   ]
  },
  {
   "cell_type": "code",
   "execution_count": 213,
   "metadata": {},
   "outputs": [],
   "source": [
    "final_result.to_csv('prediction.csv',index=False)"
   ]
  },
  {
   "cell_type": "code",
   "execution_count": null,
   "metadata": {},
   "outputs": [],
   "source": []
  }
 ],
 "metadata": {
  "kernelspec": {
   "display_name": "Python 3",
   "language": "python",
   "name": "python3"
  },
  "language_info": {
   "codemirror_mode": {
    "name": "ipython",
    "version": 3
   },
   "file_extension": ".py",
   "mimetype": "text/x-python",
   "name": "python",
   "nbconvert_exporter": "python",
   "pygments_lexer": "ipython3",
   "version": "3.8.3"
  }
 },
 "nbformat": 4,
 "nbformat_minor": 4
}
